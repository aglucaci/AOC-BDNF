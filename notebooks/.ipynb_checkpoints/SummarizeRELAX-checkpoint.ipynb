{
 "cells": [
  {
   "cell_type": "code",
   "execution_count": 1,
   "id": "f3f53827-6ea8-487f-b0cf-f852cc74564c",
   "metadata": {},
   "outputs": [],
   "source": [
    "import pandas as pd\n",
    "import numpy as np\n",
    "import os\n",
    "import json\n",
    "import altair as alt\n",
    "import numpy as np\n",
    "import glob"
   ]
  },
  {
   "cell_type": "code",
   "execution_count": 13,
   "id": "e209071d-ad8b-45a9-a245-9ed0e5fe04e6",
   "metadata": {},
   "outputs": [],
   "source": [
    "DATA_DIR = r\"..\\results\\BDNF\\Recombinants\"\n",
    "\n",
    "RELAX_FILES = glob.glob(os.path.join(DATA_DIR, \"*.RELAX.json\"))\n",
    "\n",
    "pvalue_threshold = 0.05"
   ]
  },
  {
   "cell_type": "code",
   "execution_count": 14,
   "id": "a8a50fd4-bef0-48a8-82d9-52fe70cf0409",
   "metadata": {},
   "outputs": [
    {
     "data": {
      "text/plain": [
       "['..\\\\results\\\\BDNF\\\\Recombinants\\\\BDNF_codons_RDP_recombinationFree.fas.Artiodactyla.RELAX.json',\n",
       " '..\\\\results\\\\BDNF\\\\Recombinants\\\\BDNF_codons_RDP_recombinationFree.fas.Carnivora.RELAX.json',\n",
       " '..\\\\results\\\\BDNF\\\\Recombinants\\\\BDNF_codons_RDP_recombinationFree.fas.Chiroptera.RELAX.json',\n",
       " '..\\\\results\\\\BDNF\\\\Recombinants\\\\BDNF_codons_RDP_recombinationFree.fas.Chrysochlorinae.RELAX.json',\n",
       " '..\\\\results\\\\BDNF\\\\Recombinants\\\\BDNF_codons_RDP_recombinationFree.fas.Dasypodidae.RELAX.json',\n",
       " '..\\\\results\\\\BDNF\\\\Recombinants\\\\BDNF_codons_RDP_recombinationFree.fas.Dermoptera.RELAX.json',\n",
       " '..\\\\results\\\\BDNF\\\\Recombinants\\\\BDNF_codons_RDP_recombinationFree.fas.Didelphinae.RELAX.json',\n",
       " '..\\\\results\\\\BDNF\\\\Recombinants\\\\BDNF_codons_RDP_recombinationFree.fas.Eulipotyphla.RELAX.json',\n",
       " '..\\\\results\\\\BDNF\\\\Recombinants\\\\BDNF_codons_RDP_recombinationFree.fas.Folivora.RELAX.json',\n",
       " '..\\\\results\\\\BDNF\\\\Recombinants\\\\BDNF_codons_RDP_recombinationFree.fas.Glires.RELAX.json',\n",
       " '..\\\\results\\\\BDNF\\\\Recombinants\\\\BDNF_codons_RDP_recombinationFree.fas.Macroscelididae.RELAX.json',\n",
       " '..\\\\results\\\\BDNF\\\\Recombinants\\\\BDNF_codons_RDP_recombinationFree.fas.Ornithorhynchus_anatinus.RELAX.json',\n",
       " '..\\\\results\\\\BDNF\\\\Recombinants\\\\BDNF_codons_RDP_recombinationFree.fas.Orycteropodidae.RELAX.json',\n",
       " '..\\\\results\\\\BDNF\\\\Recombinants\\\\BDNF_codons_RDP_recombinationFree.fas.Perissodactyla.RELAX.json',\n",
       " '..\\\\results\\\\BDNF\\\\Recombinants\\\\BDNF_codons_RDP_recombinationFree.fas.Phascolarctos.RELAX.json',\n",
       " '..\\\\results\\\\BDNF\\\\Recombinants\\\\BDNF_codons_RDP_recombinationFree.fas.Pholidota.RELAX.json',\n",
       " '..\\\\results\\\\BDNF\\\\Recombinants\\\\BDNF_codons_RDP_recombinationFree.fas.Primates.RELAX.json',\n",
       " '..\\\\results\\\\BDNF\\\\Recombinants\\\\BDNF_codons_RDP_recombinationFree.fas.Sarcophilus.RELAX.json',\n",
       " '..\\\\results\\\\BDNF\\\\Recombinants\\\\BDNF_codons_RDP_recombinationFree.fas.Scandentia.RELAX.json',\n",
       " '..\\\\results\\\\BDNF\\\\Recombinants\\\\BDNF_codons_RDP_recombinationFree.fas.Tachyglossus_aculeatus.RELAX.json',\n",
       " '..\\\\results\\\\BDNF\\\\Recombinants\\\\BDNF_codons_RDP_recombinationFree.fas.Tenrecinae.RELAX.json',\n",
       " '..\\\\results\\\\BDNF\\\\Recombinants\\\\BDNF_codons_RDP_recombinationFree.fas.Trichechidae.RELAX.json',\n",
       " '..\\\\results\\\\BDNF\\\\Recombinants\\\\BDNF_codons_RDP_recombinationFree.fas.Trichosurus.RELAX.json',\n",
       " '..\\\\results\\\\BDNF\\\\Recombinants\\\\BDNF_codons_RDP_recombinationFree.fas.Vombatus.RELAX.json']"
      ]
     },
     "execution_count": 14,
     "metadata": {},
     "output_type": "execute_result"
    }
   ],
   "source": [
    "RELAX_FILES"
   ]
  },
  {
   "cell_type": "code",
   "execution_count": 18,
   "id": "5e5d9fd6-b14e-4301-afa5-e3d3c7fc6af0",
   "metadata": {},
   "outputs": [],
   "source": [
    "def getRELAX_TR(JSON):\n",
    "    #print(\"# Opening:\", JSON)\n",
    "    with open(JSON, \"r\") as in_d:\n",
    "        json_data = json.load(in_d)\n",
    "    return json_data[\"test results\"]\n",
    "\n",
    "def getRELAX_fits(JSON):\n",
    "    with open(JSON, \"r\") as in_d:\n",
    "        json_data = json.load(in_d)\n",
    "    return json_data[\"fits\"]\n"
   ]
  },
  {
   "cell_type": "code",
   "execution_count": 26,
   "id": "413061f2-54a5-46c5-91d7-053337b3d309",
   "metadata": {
    "scrolled": false
   },
   "outputs": [
    {
     "name": "stdout",
     "output_type": "stream",
     "text": [
      "# Opening: ..\\results\\BDNF\\Recombinants\\BDNF_codons_RDP_recombinationFree.fas.Artiodactyla.RELAX.json\n",
      "# 135633 ..\\results\\BDNF\\Recombinants\\BDNF_codons_RDP_recombinationFree.fas.Artiodactyla.RELAX.json 0.511932459358276\n",
      "\n",
      "# Opening: ..\\results\\BDNF\\Recombinants\\BDNF_codons_RDP_recombinationFree.fas.Carnivora.RELAX.json\n",
      "# 132961 ..\\results\\BDNF\\Recombinants\\BDNF_codons_RDP_recombinationFree.fas.Carnivora.RELAX.json 0.9858983875562529\n",
      "\n",
      "# Opening: ..\\results\\BDNF\\Recombinants\\BDNF_codons_RDP_recombinationFree.fas.Chiroptera.RELAX.json\n",
      "# 135084 ..\\results\\BDNF\\Recombinants\\BDNF_codons_RDP_recombinationFree.fas.Chiroptera.RELAX.json 0.9625671944827204\n",
      "\n",
      "# Opening: ..\\results\\BDNF\\Recombinants\\BDNF_codons_RDP_recombinationFree.fas.Chrysochlorinae.RELAX.json\n",
      "# Skipping this file: ..\\results\\BDNF\\Recombinants\\BDNF_codons_RDP_recombinationFree.fas.Chrysochlorinae.RELAX.json\n",
      "\n",
      "# Opening: ..\\results\\BDNF\\Recombinants\\BDNF_codons_RDP_recombinationFree.fas.Dasypodidae.RELAX.json\n",
      "# 133379 ..\\results\\BDNF\\Recombinants\\BDNF_codons_RDP_recombinationFree.fas.Dasypodidae.RELAX.json 0.97894840788042\n",
      "\n",
      "# Opening: ..\\results\\BDNF\\Recombinants\\BDNF_codons_RDP_recombinationFree.fas.Dermoptera.RELAX.json\n",
      "# 134156 ..\\results\\BDNF\\Recombinants\\BDNF_codons_RDP_recombinationFree.fas.Dermoptera.RELAX.json 0.6679125864610805\n",
      "\n",
      "# Opening: ..\\results\\BDNF\\Recombinants\\BDNF_codons_RDP_recombinationFree.fas.Didelphinae.RELAX.json\n",
      "# 133460 ..\\results\\BDNF\\Recombinants\\BDNF_codons_RDP_recombinationFree.fas.Didelphinae.RELAX.json 0.035916157589852\n",
      "# Passed p-value threshold: ..\\results\\BDNF\\Recombinants\\BDNF_codons_RDP_recombinationFree.fas.Didelphinae.RELAX.json\n",
      "\n",
      "# Opening: ..\\results\\BDNF\\Recombinants\\BDNF_codons_RDP_recombinationFree.fas.Eulipotyphla.RELAX.json\n",
      "# 134120 ..\\results\\BDNF\\Recombinants\\BDNF_codons_RDP_recombinationFree.fas.Eulipotyphla.RELAX.json 0.0003632391937106183\n",
      "# Passed p-value threshold: ..\\results\\BDNF\\Recombinants\\BDNF_codons_RDP_recombinationFree.fas.Eulipotyphla.RELAX.json\n",
      "\n",
      "# Opening: ..\\results\\BDNF\\Recombinants\\BDNF_codons_RDP_recombinationFree.fas.Folivora.RELAX.json\n",
      "# 136862 ..\\results\\BDNF\\Recombinants\\BDNF_codons_RDP_recombinationFree.fas.Folivora.RELAX.json 0.406022272934349\n",
      "\n",
      "# Opening: ..\\results\\BDNF\\Recombinants\\BDNF_codons_RDP_recombinationFree.fas.Glires.RELAX.json\n",
      "# 135015 ..\\results\\BDNF\\Recombinants\\BDNF_codons_RDP_recombinationFree.fas.Glires.RELAX.json 0.6427555288980936\n",
      "\n",
      "# Opening: ..\\results\\BDNF\\Recombinants\\BDNF_codons_RDP_recombinationFree.fas.Macroscelididae.RELAX.json\n",
      "# 135149 ..\\results\\BDNF\\Recombinants\\BDNF_codons_RDP_recombinationFree.fas.Macroscelididae.RELAX.json 0.4220499165652136\n",
      "\n",
      "# Opening: ..\\results\\BDNF\\Recombinants\\BDNF_codons_RDP_recombinationFree.fas.Ornithorhynchus_anatinus.RELAX.json\n",
      "# Skipping this file: ..\\results\\BDNF\\Recombinants\\BDNF_codons_RDP_recombinationFree.fas.Ornithorhynchus_anatinus.RELAX.json\n",
      "\n",
      "# Opening: ..\\results\\BDNF\\Recombinants\\BDNF_codons_RDP_recombinationFree.fas.Orycteropodidae.RELAX.json\n",
      "# 135140 ..\\results\\BDNF\\Recombinants\\BDNF_codons_RDP_recombinationFree.fas.Orycteropodidae.RELAX.json 0.4600935862131339\n",
      "\n",
      "# Opening: ..\\results\\BDNF\\Recombinants\\BDNF_codons_RDP_recombinationFree.fas.Perissodactyla.RELAX.json\n",
      "# 135206 ..\\results\\BDNF\\Recombinants\\BDNF_codons_RDP_recombinationFree.fas.Perissodactyla.RELAX.json 0.7268675026577835\n",
      "\n",
      "# Opening: ..\\results\\BDNF\\Recombinants\\BDNF_codons_RDP_recombinationFree.fas.Phascolarctos.RELAX.json\n",
      "# 134825 ..\\results\\BDNF\\Recombinants\\BDNF_codons_RDP_recombinationFree.fas.Phascolarctos.RELAX.json 0.2216247458461233\n",
      "\n",
      "# Opening: ..\\results\\BDNF\\Recombinants\\BDNF_codons_RDP_recombinationFree.fas.Pholidota.RELAX.json\n",
      "# 135144 ..\\results\\BDNF\\Recombinants\\BDNF_codons_RDP_recombinationFree.fas.Pholidota.RELAX.json 0.8066136350043933\n",
      "\n",
      "# Opening: ..\\results\\BDNF\\Recombinants\\BDNF_codons_RDP_recombinationFree.fas.Primates.RELAX.json\n",
      "# 135051 ..\\results\\BDNF\\Recombinants\\BDNF_codons_RDP_recombinationFree.fas.Primates.RELAX.json 0.8242646702789261\n",
      "\n",
      "# Opening: ..\\results\\BDNF\\Recombinants\\BDNF_codons_RDP_recombinationFree.fas.Sarcophilus.RELAX.json\n",
      "# 135166 ..\\results\\BDNF\\Recombinants\\BDNF_codons_RDP_recombinationFree.fas.Sarcophilus.RELAX.json 0.7909373337535612\n",
      "\n",
      "# Opening: ..\\results\\BDNF\\Recombinants\\BDNF_codons_RDP_recombinationFree.fas.Scandentia.RELAX.json\n",
      "# 135148 ..\\results\\BDNF\\Recombinants\\BDNF_codons_RDP_recombinationFree.fas.Scandentia.RELAX.json 0.2273719058514413\n",
      "\n",
      "# Opening: ..\\results\\BDNF\\Recombinants\\BDNF_codons_RDP_recombinationFree.fas.Tachyglossus_aculeatus.RELAX.json\n",
      "# 134971 ..\\results\\BDNF\\Recombinants\\BDNF_codons_RDP_recombinationFree.fas.Tachyglossus_aculeatus.RELAX.json 0.4718661234545669\n",
      "\n",
      "# Opening: ..\\results\\BDNF\\Recombinants\\BDNF_codons_RDP_recombinationFree.fas.Tenrecinae.RELAX.json\n",
      "# 135098 ..\\results\\BDNF\\Recombinants\\BDNF_codons_RDP_recombinationFree.fas.Tenrecinae.RELAX.json 0.4085896725483519\n",
      "\n",
      "# Opening: ..\\results\\BDNF\\Recombinants\\BDNF_codons_RDP_recombinationFree.fas.Trichechidae.RELAX.json\n",
      "# 133439 ..\\results\\BDNF\\Recombinants\\BDNF_codons_RDP_recombinationFree.fas.Trichechidae.RELAX.json 0.7546006267845753\n",
      "\n",
      "# Opening: ..\\results\\BDNF\\Recombinants\\BDNF_codons_RDP_recombinationFree.fas.Trichosurus.RELAX.json\n",
      "# Skipping this file: ..\\results\\BDNF\\Recombinants\\BDNF_codons_RDP_recombinationFree.fas.Trichosurus.RELAX.json\n",
      "\n",
      "# Opening: ..\\results\\BDNF\\Recombinants\\BDNF_codons_RDP_recombinationFree.fas.Vombatus.RELAX.json\n",
      "# 134196 ..\\results\\BDNF\\Recombinants\\BDNF_codons_RDP_recombinationFree.fas.Vombatus.RELAX.json 0.636747983399395\n",
      "\n"
     ]
    }
   ],
   "source": [
    "# Main\n",
    "passedThreshold = []\n",
    "\n",
    "for file in RELAX_FILES:\n",
    "    fsize = os.path.getsize(file) \n",
    "    #print(fsize, file)\n",
    "    #pval = getRELAX_TR(file)[\"p-value\"]\n",
    "    #x = getRELAX_TR(file)\n",
    "    try:\n",
    "        x = getRELAX_TR(file)\n",
    "        pval = x[\"p-value\"]\n",
    "    except:\n",
    "        print(\"# Skipping this file:\", file)\n",
    "        print()\n",
    "        continue\n",
    "    #end try\n",
    "    print(\"#\", fsize, file, pval)\n",
    "    if pval <= pvalue_threshold:\n",
    "        passedThreshold.append(file)\n",
    "        print(\"# Passed p-value threshold:\", file.split(\"/\")[-1])\n",
    "    #end if\n",
    "    print()\n",
    "#end for"
   ]
  },
  {
   "cell_type": "code",
   "execution_count": 25,
   "id": "angry-chamber",
   "metadata": {},
   "outputs": [
    {
     "data": {
      "text/plain": [
       "['..\\\\results\\\\BDNF\\\\Recombinants\\\\BDNF_codons_RDP_recombinationFree.fas.Didelphinae.RELAX.json',\n",
       " '..\\\\results\\\\BDNF\\\\Recombinants\\\\BDNF_codons_RDP_recombinationFree.fas.Eulipotyphla.RELAX.json']"
      ]
     },
     "execution_count": 25,
     "metadata": {},
     "output_type": "execute_result"
    }
   ],
   "source": [
    "passedThreshold"
   ]
  },
  {
   "cell_type": "code",
   "execution_count": null,
   "id": "saved-portsmouth",
   "metadata": {},
   "outputs": [],
   "source": [
    "#/home/aglucaci/AOC/results/BDNF/Recombinants/BDNF_codons_RDP_recombinationFree.fas.treefile.Carnivora.Primates"
   ]
  },
  {
   "cell_type": "code",
   "execution_count": 66,
   "id": "e4db0e44-1aef-4023-a5cf-8c502ae3b24b",
   "metadata": {},
   "outputs": [
    {
     "name": "stdout",
     "output_type": "stream",
     "text": [
      "Label: Eulipotyphla\n"
     ]
    },
    {
     "data": {
      "text/plain": [
       "dict_keys(['General descriptive', 'MG94xREV with separate rates for branch sets', 'Nucleotide GTR', 'RELAX alternative', 'RELAX null', 'RELAX partitioned descriptive'])"
      ]
     },
     "execution_count": 66,
     "metadata": {},
     "output_type": "execute_result"
    }
   ],
   "source": [
    "# Process them separately\n",
    "\n",
    "#TEST_FILE = \"/Users/user/Documents/GeneInvestigator/results/BDNF/Recombinants/BDNF_codons_RDP_recombinationFree.fas.Carnivora.RELAX.json\"\n",
    "#TEST_FILE = \"/Users/user/Documents/GeneInvestigator/results/BDNF/Recombinants/BDNF_codons_RDP_recombinationFree.fas.Primates.RELAX.json\"\n",
    "#TEST_FILE = '/Users/user/Documents/GeneInvestigator/results/BDNF/Recombinants/BDNF_codons_RDP_recombinationFree.fas.Eulipotyphla.RELAX.json'\n",
    "\n",
    "TEST_FILE = passedThreshold[1]\n",
    "#label = \"Didelphinae\"\n",
    "label = \"Eulipotyphla\"\n",
    "\n",
    "#TEST_FILE = r\"..\\results\\BDNF\\Recombinants\\BDNF_codons_RDP_recombinationFree.fas.Primates.RELAX.json\"\n",
    "\n",
    "#label = TEST_FILE.split(r\"\\\\\")[-1].split(\".\")[2]\n",
    "print(\"Label:\", label)\n",
    "#Label = \"Didelphinae\"\n",
    "\n",
    "fits = getRELAX_fits(TEST_FILE)\n",
    "fits.keys()\n",
    "\n",
    "# print(fits[\"RELAX partitioned descriptive\"])"
   ]
  },
  {
   "cell_type": "code",
   "execution_count": 67,
   "id": "746d395c-06f6-4ff0-8605-e738615b5aae",
   "metadata": {},
   "outputs": [
    {
     "data": {
      "text/html": [
       "<div>\n",
       "<style scoped>\n",
       "    .dataframe tbody tr th:only-of-type {\n",
       "        vertical-align: middle;\n",
       "    }\n",
       "\n",
       "    .dataframe tbody tr th {\n",
       "        vertical-align: top;\n",
       "    }\n",
       "\n",
       "    .dataframe thead th {\n",
       "        text-align: right;\n",
       "    }\n",
       "</style>\n",
       "<table border=\"1\" class=\"dataframe\">\n",
       "  <thead>\n",
       "    <tr style=\"text-align: right;\">\n",
       "      <th></th>\n",
       "      <th>General descriptive</th>\n",
       "      <th>MG94xREV with separate rates for branch sets</th>\n",
       "      <th>Nucleotide GTR</th>\n",
       "      <th>RELAX alternative</th>\n",
       "      <th>RELAX null</th>\n",
       "      <th>RELAX partitioned descriptive</th>\n",
       "    </tr>\n",
       "  </thead>\n",
       "  <tbody>\n",
       "    <tr>\n",
       "      <th>AIC-c</th>\n",
       "      <td>19587.571715</td>\n",
       "      <td>19333.139823</td>\n",
       "      <td>21992.939434</td>\n",
       "      <td>19318.774054</td>\n",
       "      <td>19329.454573</td>\n",
       "      <td>19322.738094</td>\n",
       "    </tr>\n",
       "    <tr>\n",
       "      <th>Log Likelihood</th>\n",
       "      <td>-9289.143953</td>\n",
       "      <td>-9409.569298</td>\n",
       "      <td>-10738.795875</td>\n",
       "      <td>-9398.323029</td>\n",
       "      <td>-9404.679228</td>\n",
       "      <td>-9396.240668</td>\n",
       "    </tr>\n",
       "    <tr>\n",
       "      <th>Rate Distributions</th>\n",
       "      <td>{'Shared': {'0': {'omega': 3.48071060292676e-0...</td>\n",
       "      <td>{'non-synonymous/synonymous rate ratio for *Re...</td>\n",
       "      <td>{'Substitution rate from nucleotide A to nucle...</td>\n",
       "      <td>{'Reference': {'0': {'omega': 1.22901660944831...</td>\n",
       "      <td>{'Reference': {'0': {'omega': 0.03328033200923...</td>\n",
       "      <td>{'Reference': {'0': {'omega': 0.03109956695374...</td>\n",
       "    </tr>\n",
       "    <tr>\n",
       "      <th>display order</th>\n",
       "      <td>4</td>\n",
       "      <td>1</td>\n",
       "      <td>0</td>\n",
       "      <td>2</td>\n",
       "      <td>3</td>\n",
       "      <td>5</td>\n",
       "    </tr>\n",
       "    <tr>\n",
       "      <th>estimated parameters</th>\n",
       "      <td>497</td>\n",
       "      <td>255</td>\n",
       "      <td>257</td>\n",
       "      <td>259</td>\n",
       "      <td>258</td>\n",
       "      <td>263</td>\n",
       "    </tr>\n",
       "    <tr>\n",
       "      <th>Equilibrium frequencies</th>\n",
       "      <td>NaN</td>\n",
       "      <td>[[0.01868373105312574], [0.0317901918607232], ...</td>\n",
       "      <td>[[0.2636215892566932], [0.2456590539731417], [...</td>\n",
       "      <td>NaN</td>\n",
       "      <td>NaN</td>\n",
       "      <td>NaN</td>\n",
       "    </tr>\n",
       "  </tbody>\n",
       "</table>\n",
       "</div>"
      ],
      "text/plain": [
       "                                                       General descriptive  \\\n",
       "AIC-c                                                         19587.571715   \n",
       "Log Likelihood                                                -9289.143953   \n",
       "Rate Distributions       {'Shared': {'0': {'omega': 3.48071060292676e-0...   \n",
       "display order                                                            4   \n",
       "estimated parameters                                                   497   \n",
       "Equilibrium frequencies                                                NaN   \n",
       "\n",
       "                              MG94xREV with separate rates for branch sets  \\\n",
       "AIC-c                                                         19333.139823   \n",
       "Log Likelihood                                                -9409.569298   \n",
       "Rate Distributions       {'non-synonymous/synonymous rate ratio for *Re...   \n",
       "display order                                                            1   \n",
       "estimated parameters                                                   255   \n",
       "Equilibrium frequencies  [[0.01868373105312574], [0.0317901918607232], ...   \n",
       "\n",
       "                                                            Nucleotide GTR  \\\n",
       "AIC-c                                                         21992.939434   \n",
       "Log Likelihood                                               -10738.795875   \n",
       "Rate Distributions       {'Substitution rate from nucleotide A to nucle...   \n",
       "display order                                                            0   \n",
       "estimated parameters                                                   257   \n",
       "Equilibrium frequencies  [[0.2636215892566932], [0.2456590539731417], [...   \n",
       "\n",
       "                                                         RELAX alternative  \\\n",
       "AIC-c                                                         19318.774054   \n",
       "Log Likelihood                                                -9398.323029   \n",
       "Rate Distributions       {'Reference': {'0': {'omega': 1.22901660944831...   \n",
       "display order                                                            2   \n",
       "estimated parameters                                                   259   \n",
       "Equilibrium frequencies                                                NaN   \n",
       "\n",
       "                                                                RELAX null  \\\n",
       "AIC-c                                                         19329.454573   \n",
       "Log Likelihood                                                -9404.679228   \n",
       "Rate Distributions       {'Reference': {'0': {'omega': 0.03328033200923...   \n",
       "display order                                                            3   \n",
       "estimated parameters                                                   258   \n",
       "Equilibrium frequencies                                                NaN   \n",
       "\n",
       "                                             RELAX partitioned descriptive  \n",
       "AIC-c                                                         19322.738094  \n",
       "Log Likelihood                                                -9396.240668  \n",
       "Rate Distributions       {'Reference': {'0': {'omega': 0.03109956695374...  \n",
       "display order                                                            5  \n",
       "estimated parameters                                                   263  \n",
       "Equilibrium frequencies                                                NaN  "
      ]
     },
     "execution_count": 67,
     "metadata": {},
     "output_type": "execute_result"
    }
   ],
   "source": [
    "df = pd.DataFrame.from_dict(fits, orient='index')\n",
    "df.T"
   ]
  },
  {
   "cell_type": "code",
   "execution_count": 68,
   "id": "5158388c-2d1c-4836-831f-9559c5b03aeb",
   "metadata": {
    "scrolled": true
   },
   "outputs": [
    {
     "data": {
      "text/html": [
       "<div>\n",
       "<style scoped>\n",
       "    .dataframe tbody tr th:only-of-type {\n",
       "        vertical-align: middle;\n",
       "    }\n",
       "\n",
       "    .dataframe tbody tr th {\n",
       "        vertical-align: top;\n",
       "    }\n",
       "\n",
       "    .dataframe thead th {\n",
       "        text-align: right;\n",
       "    }\n",
       "</style>\n",
       "<table border=\"1\" class=\"dataframe\">\n",
       "  <thead>\n",
       "    <tr style=\"text-align: right;\">\n",
       "      <th></th>\n",
       "      <th>omega</th>\n",
       "      <th>proportion</th>\n",
       "    </tr>\n",
       "  </thead>\n",
       "  <tbody>\n",
       "    <tr>\n",
       "      <th>0</th>\n",
       "      <td>0.031100</td>\n",
       "      <td>0.917610</td>\n",
       "    </tr>\n",
       "    <tr>\n",
       "      <th>1</th>\n",
       "      <td>0.393134</td>\n",
       "      <td>0.082299</td>\n",
       "    </tr>\n",
       "    <tr>\n",
       "      <th>2</th>\n",
       "      <td>219078.818116</td>\n",
       "      <td>0.000091</td>\n",
       "    </tr>\n",
       "  </tbody>\n",
       "</table>\n",
       "</div>"
      ],
      "text/plain": [
       "           omega  proportion\n",
       "0       0.031100    0.917610\n",
       "1       0.393134    0.082299\n",
       "2  219078.818116    0.000091"
      ]
     },
     "execution_count": 68,
     "metadata": {},
     "output_type": "execute_result"
    }
   ],
   "source": [
    "df2_Ref = pd.DataFrame.from_dict(fits[\"RELAX partitioned descriptive\"][\"Rate Distributions\"][\"Reference\"], orient='index')\n",
    "\n",
    "# df_Unc[\"proportion\"] = round(df_Unc[\"proportion\"] * 100, 2)\n",
    "df2_Ref"
   ]
  },
  {
   "cell_type": "code",
   "execution_count": 69,
   "id": "a3f6918d-cf2c-4148-a651-b8299f7285a7",
   "metadata": {
    "scrolled": true
   },
   "outputs": [
    {
     "data": {
      "text/html": [
       "<div>\n",
       "<style scoped>\n",
       "    .dataframe tbody tr th:only-of-type {\n",
       "        vertical-align: middle;\n",
       "    }\n",
       "\n",
       "    .dataframe tbody tr th {\n",
       "        vertical-align: top;\n",
       "    }\n",
       "\n",
       "    .dataframe thead th {\n",
       "        text-align: right;\n",
       "    }\n",
       "</style>\n",
       "<table border=\"1\" class=\"dataframe\">\n",
       "  <thead>\n",
       "    <tr style=\"text-align: right;\">\n",
       "      <th></th>\n",
       "      <th>omega</th>\n",
       "      <th>proportion</th>\n",
       "    </tr>\n",
       "  </thead>\n",
       "  <tbody>\n",
       "    <tr>\n",
       "      <th>0</th>\n",
       "      <td>0.118287</td>\n",
       "      <td>0.898343</td>\n",
       "    </tr>\n",
       "    <tr>\n",
       "      <th>1</th>\n",
       "      <td>0.834388</td>\n",
       "      <td>0.101657</td>\n",
       "    </tr>\n",
       "    <tr>\n",
       "      <th>2</th>\n",
       "      <td>11.813877</td>\n",
       "      <td>0.000000</td>\n",
       "    </tr>\n",
       "  </tbody>\n",
       "</table>\n",
       "</div>"
      ],
      "text/plain": [
       "       omega  proportion\n",
       "0   0.118287    0.898343\n",
       "1   0.834388    0.101657\n",
       "2  11.813877    0.000000"
      ]
     },
     "execution_count": 69,
     "metadata": {},
     "output_type": "execute_result"
    }
   ],
   "source": [
    "df3_Test = pd.DataFrame.from_dict(fits[\"RELAX partitioned descriptive\"][\"Rate Distributions\"][\"Test\"], orient='index')\n",
    "df3_Test"
   ]
  },
  {
   "cell_type": "code",
   "execution_count": 70,
   "id": "3a4c811e-8652-429a-94dd-02472270c9c1",
   "metadata": {},
   "outputs": [
    {
     "data": {
      "text/html": [
       "\n",
       "<div id=\"altair-viz-aee8a60cb0114ae09e43599c72fde308\"></div>\n",
       "<script type=\"text/javascript\">\n",
       "  (function(spec, embedOpt){\n",
       "    let outputDiv = document.currentScript.previousElementSibling;\n",
       "    if (outputDiv.id !== \"altair-viz-aee8a60cb0114ae09e43599c72fde308\") {\n",
       "      outputDiv = document.getElementById(\"altair-viz-aee8a60cb0114ae09e43599c72fde308\");\n",
       "    }\n",
       "    const paths = {\n",
       "      \"vega\": \"https://cdn.jsdelivr.net/npm//vega@5?noext\",\n",
       "      \"vega-lib\": \"https://cdn.jsdelivr.net/npm//vega-lib?noext\",\n",
       "      \"vega-lite\": \"https://cdn.jsdelivr.net/npm//vega-lite@4.8.1?noext\",\n",
       "      \"vega-embed\": \"https://cdn.jsdelivr.net/npm//vega-embed@6?noext\",\n",
       "    };\n",
       "\n",
       "    function loadScript(lib) {\n",
       "      return new Promise(function(resolve, reject) {\n",
       "        var s = document.createElement('script');\n",
       "        s.src = paths[lib];\n",
       "        s.async = true;\n",
       "        s.onload = () => resolve(paths[lib]);\n",
       "        s.onerror = () => reject(`Error loading script: ${paths[lib]}`);\n",
       "        document.getElementsByTagName(\"head\")[0].appendChild(s);\n",
       "      });\n",
       "    }\n",
       "\n",
       "    function showError(err) {\n",
       "      outputDiv.innerHTML = `<div class=\"error\" style=\"color:red;\">${err}</div>`;\n",
       "      throw err;\n",
       "    }\n",
       "\n",
       "    function displayChart(vegaEmbed) {\n",
       "      vegaEmbed(outputDiv, spec, embedOpt)\n",
       "        .catch(err => showError(`Javascript Error: ${err.message}<br>This usually means there's a typo in your chart specification. See the javascript console for the full traceback.`));\n",
       "    }\n",
       "\n",
       "    if(typeof define === \"function\" && define.amd) {\n",
       "      requirejs.config({paths});\n",
       "      require([\"vega-embed\"], displayChart, err => showError(`Error loading script: ${err.message}`));\n",
       "    } else if (typeof vegaEmbed === \"function\") {\n",
       "      displayChart(vegaEmbed);\n",
       "    } else {\n",
       "      loadScript(\"vega\")\n",
       "        .then(() => loadScript(\"vega-lite\"))\n",
       "        .then(() => loadScript(\"vega-embed\"))\n",
       "        .catch(showError)\n",
       "        .then(() => displayChart(vegaEmbed));\n",
       "    }\n",
       "  })({\"config\": {\"view\": {\"continuousWidth\": 400, \"continuousHeight\": 300}}, \"layer\": [{\"data\": {\"name\": \"data-e10a35c15393f5a98e6fa262b3ca5b3a\"}, \"mark\": \"bar\", \"encoding\": {\"color\": {\"type\": \"nominal\", \"field\": \"Color\", \"sort\": [\"Background\", \"Eulipotyphla\"]}, \"x\": {\"type\": \"quantitative\", \"field\": \"log(omega)\"}, \"y\": {\"type\": \"quantitative\", \"field\": \"proportion\"}}, \"height\": 400, \"title\": \"Eulipotyphla\", \"width\": 500}, {\"data\": {\"name\": \"data-a1f40d5951b6f65e3477b620bb0ecd97\"}, \"mark\": \"bar\", \"encoding\": {\"color\": {\"type\": \"nominal\", \"field\": \"Color\", \"sort\": [\"Background\", \"Eulipotyphla\"]}, \"x\": {\"type\": \"quantitative\", \"field\": \"log(omega)\"}, \"y\": {\"type\": \"quantitative\", \"field\": \"proportion\"}}, \"height\": 400, \"width\": 500}], \"$schema\": \"https://vega.github.io/schema/vega-lite/v4.8.1.json\", \"datasets\": {\"data-e10a35c15393f5a98e6fa262b3ca5b3a\": [{\"omega\": 0.0310995669537401, \"proportion\": 0.9176101831472424, \"log(omega)\": -1.507245658269319, \"Color\": \"Background\"}, {\"omega\": 0.3931339641414827, \"proportion\": 0.08229856845318208, \"log(omega)\": -0.405459434424529, \"Color\": \"Background\"}, {\"omega\": 219078.8181160699, \"proportion\": 9.124839957551577e-05, \"log(omega)\": 5.3406003893361085, \"Color\": \"Background\"}], \"data-a1f40d5951b6f65e3477b620bb0ecd97\": [{\"omega\": 0.1182872179532214, \"proportion\": 0.8983427116006723, \"log(omega)\": -0.9270621824413915, \"Color\": \"Eulipotyphla\"}, {\"omega\": 0.8343880324951649, \"proportion\": 0.1016572883993277, \"log(omega)\": -0.07863193355873645, \"Color\": \"Eulipotyphla\"}, {\"omega\": 11.81387741617581, \"proportion\": 0.0, \"log(omega)\": 1.0723924601941321, \"Color\": \"Eulipotyphla\"}]}}, {\"mode\": \"vega-lite\"});\n",
       "</script>"
      ],
      "text/plain": [
       "alt.LayerChart(...)"
      ]
     },
     "execution_count": 70,
     "metadata": {},
     "output_type": "execute_result"
    }
   ],
   "source": [
    "# Unconstrained model\n",
    "\n",
    "source = df2_Ref\n",
    "df2_Ref[\"log(omega)\"] = np.log10(df2_Ref[\"omega\"])\n",
    "df2_Ref[\"Color\"] = \"Background\"\n",
    "\n",
    "order = [\"Background\", label]\n",
    "\n",
    "line = alt.Chart(source).mark_bar().encode(\n",
    "    x='log(omega)',\n",
    "    y='proportion',\n",
    "    color=alt.Color('Color', sort=order)\n",
    ").properties(\n",
    "    width=500,\n",
    "    height=400,\n",
    "    title=label\n",
    ")\n",
    "\n",
    "line.configure_title(\n",
    "    fontSize=20,\n",
    "    font='Courier',\n",
    "    anchor='start',\n",
    "    color='gray'\n",
    ")\n",
    "\n",
    "df3_Test[\"log(omega)\"] = np.log10(df3_Test[\"omega\"])\n",
    "df3_Test[\"Color\"] = label\n",
    "\n",
    "source = df3_Test\n",
    "\n",
    "line2 = alt.Chart(source).mark_bar().encode(\n",
    "    x='log(omega)',\n",
    "    y='proportion',\n",
    "     color=alt.Color('Color', sort=order)\n",
    ").properties(\n",
    "    width=500,\n",
    "    height=400)\n",
    "\n",
    "line + line2"
   ]
  },
  {
   "cell_type": "code",
   "execution_count": 60,
   "id": "empirical-latitude",
   "metadata": {},
   "outputs": [
    {
     "data": {
      "text/html": [
       "<div>\n",
       "<style scoped>\n",
       "    .dataframe tbody tr th:only-of-type {\n",
       "        vertical-align: middle;\n",
       "    }\n",
       "\n",
       "    .dataframe tbody tr th {\n",
       "        vertical-align: top;\n",
       "    }\n",
       "\n",
       "    .dataframe thead th {\n",
       "        text-align: right;\n",
       "    }\n",
       "</style>\n",
       "<table border=\"1\" class=\"dataframe\">\n",
       "  <thead>\n",
       "    <tr style=\"text-align: right;\">\n",
       "      <th></th>\n",
       "      <th>omega</th>\n",
       "      <th>proportion</th>\n",
       "      <th>log(omega)</th>\n",
       "      <th>Color</th>\n",
       "    </tr>\n",
       "  </thead>\n",
       "  <tbody>\n",
       "    <tr>\n",
       "      <th>0</th>\n",
       "      <td>0.000000</td>\n",
       "      <td>0.994731</td>\n",
       "      <td>-inf</td>\n",
       "      <td>Test</td>\n",
       "    </tr>\n",
       "    <tr>\n",
       "      <th>1</th>\n",
       "      <td>0.240077</td>\n",
       "      <td>0.000000</td>\n",
       "      <td>-0.619650</td>\n",
       "      <td>Test</td>\n",
       "    </tr>\n",
       "    <tr>\n",
       "      <th>2</th>\n",
       "      <td>11.365695</td>\n",
       "      <td>0.005269</td>\n",
       "      <td>1.055596</td>\n",
       "      <td>Test</td>\n",
       "    </tr>\n",
       "  </tbody>\n",
       "</table>\n",
       "</div>"
      ],
      "text/plain": [
       "       omega  proportion  log(omega) Color\n",
       "0   0.000000    0.994731        -inf  Test\n",
       "1   0.240077    0.000000   -0.619650  Test\n",
       "2  11.365695    0.005269    1.055596  Test"
      ]
     },
     "execution_count": 60,
     "metadata": {},
     "output_type": "execute_result"
    }
   ],
   "source": [
    "df3_Test"
   ]
  },
  {
   "cell_type": "code",
   "execution_count": 61,
   "id": "iraqi-print",
   "metadata": {},
   "outputs": [
    {
     "data": {
      "text/html": [
       "<div>\n",
       "<style scoped>\n",
       "    .dataframe tbody tr th:only-of-type {\n",
       "        vertical-align: middle;\n",
       "    }\n",
       "\n",
       "    .dataframe tbody tr th {\n",
       "        vertical-align: top;\n",
       "    }\n",
       "\n",
       "    .dataframe thead th {\n",
       "        text-align: right;\n",
       "    }\n",
       "</style>\n",
       "<table border=\"1\" class=\"dataframe\">\n",
       "  <thead>\n",
       "    <tr style=\"text-align: right;\">\n",
       "      <th></th>\n",
       "      <th>omega</th>\n",
       "      <th>proportion</th>\n",
       "      <th>log(omega)</th>\n",
       "      <th>Color</th>\n",
       "    </tr>\n",
       "  </thead>\n",
       "  <tbody>\n",
       "    <tr>\n",
       "      <th>0</th>\n",
       "      <td>5.362155e-02</td>\n",
       "      <td>0.985928</td>\n",
       "      <td>-1.270661</td>\n",
       "      <td>Reference</td>\n",
       "    </tr>\n",
       "    <tr>\n",
       "      <th>1</th>\n",
       "      <td>8.710846e-01</td>\n",
       "      <td>0.013983</td>\n",
       "      <td>-0.059940</td>\n",
       "      <td>Reference</td>\n",
       "    </tr>\n",
       "    <tr>\n",
       "      <th>2</th>\n",
       "      <td>9.999999e+09</td>\n",
       "      <td>0.000090</td>\n",
       "      <td>10.000000</td>\n",
       "      <td>Reference</td>\n",
       "    </tr>\n",
       "  </tbody>\n",
       "</table>\n",
       "</div>"
      ],
      "text/plain": [
       "          omega  proportion  log(omega)      Color\n",
       "0  5.362155e-02    0.985928   -1.270661  Reference\n",
       "1  8.710846e-01    0.013983   -0.059940  Reference\n",
       "2  9.999999e+09    0.000090   10.000000  Reference"
      ]
     },
     "execution_count": 61,
     "metadata": {},
     "output_type": "execute_result"
    }
   ],
   "source": [
    "df2_Ref"
   ]
  },
  {
   "cell_type": "code",
   "execution_count": 62,
   "id": "bd163005-132a-48aa-8fc7-f6272d9ce008",
   "metadata": {},
   "outputs": [],
   "source": [
    "# Process them together as subplots"
   ]
  },
  {
   "cell_type": "code",
   "execution_count": 63,
   "id": "6f30ac28-af30-455c-8888-05845f61af35",
   "metadata": {},
   "outputs": [],
   "source": [
    "# RELAX Interpretation\n",
    "# http://hyphy.org/methods/selection-methods/#relax\n",
    "# method paper: https://academic.oup.com/mbe/article/32/3/820/981440\n",
    "\n"
   ]
  },
  {
   "cell_type": "markdown",
   "id": "0543b42e-9357-48cc-873d-40d760f015ac",
   "metadata": {},
   "source": [
    "# Figure legend\n",
    "Patterns of natural selection across taxonomic groups under the Partitioned Descriptive model of the RELAX method. Selection profiles for BDNF are shown along Reference and Test branches for each taxonomic group. Three omega parameters and the relative proportion of sites they represent are plotted for Test (orange) and Referenc (blue) branches. Only omega categories representing nonzero proportions of sites are shown. Neutral selection corresponds to the omega=1.0 in this log10 scaled X-axis. These taxonomic groups represent datasets where significant (p<= 0.05) for relaxed selection was detected between test and reference branches."
   ]
  },
  {
   "cell_type": "markdown",
   "id": "6a1aa3ae-0a7f-44df-87b5-cc21cbbc378f",
   "metadata": {},
   "source": []
  }
 ],
 "metadata": {
  "kernelspec": {
   "display_name": "Python 3",
   "language": "python",
   "name": "python3"
  },
  "language_info": {
   "codemirror_mode": {
    "name": "ipython",
    "version": 3
   },
   "file_extension": ".py",
   "mimetype": "text/x-python",
   "name": "python",
   "nbconvert_exporter": "python",
   "pygments_lexer": "ipython3",
   "version": "3.9.1"
  }
 },
 "nbformat": 4,
 "nbformat_minor": 5
}
