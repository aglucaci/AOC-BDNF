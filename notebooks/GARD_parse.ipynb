{
 "cells": [
  {
   "cell_type": "markdown",
   "metadata": {},
   "source": [
    "## Imports "
   ]
  },
  {
   "cell_type": "code",
   "execution_count": 7,
   "metadata": {},
   "outputs": [],
   "source": [
    "# Imports\n",
    "from Bio import SeqIO\n",
    "from Bio.Seq import Seq\n",
    "import json\n",
    "import os"
   ]
  },
  {
   "cell_type": "markdown",
   "metadata": {},
   "source": [
    "## Declares"
   ]
  },
  {
   "cell_type": "code",
   "execution_count": 8,
   "metadata": {},
   "outputs": [],
   "source": [
    "##"
   ]
  },
  {
   "cell_type": "markdown",
   "metadata": {},
   "source": [
    "## Main subroutine"
   ]
  },
  {
   "cell_type": "code",
   "execution_count": 22,
   "metadata": {},
   "outputs": [],
   "source": [
    "# Helper functions\n",
    "def gard_parser(combo, best_gard, codon_MSA_in):    \n",
    "    data = [d.strip() for d in open(best_gard).readlines() if \"CHARSET\" in d]\n",
    "    coords = []\n",
    "    if len(data) > 1:\n",
    "        for pos, i in enumerate(data):\n",
    "            ## hyphy coordinates are 1 indexed and INCLUSIVE ##\n",
    "            ## so to get to \"true\" python coords you need to -1 to start and -1 to stop ##\n",
    "            ## then you need to +1 to python \"stop\" coord to get the actual length ## \n",
    "            #hyphy_start = i.split(' ')[-1].split(';')[0].split('-')[0]\n",
    "            #hyphy_stop = i.split(\" \")[-1].split(\";\")[0].split(\"-\")[1]\n",
    "            #print(f\"HYPHY coords for partition {pos +1} --> start {hyphy_start} | stop {hyphy_stop}\")\n",
    "            ## in python (start-1) | (end-1) to get the true coords ##\n",
    "            ## to get the correct python index[X:Y] (zero index, EXLUSIVE) need to do [start-1,stop] ##\n",
    "            start = int(i.split(\" \")[-1].split(\";\")[0].split(\"-\")[0])-1\n",
    "            stop = int(i.split(\" \")[-1].split(\";\")[0].split(\"-\")[1])-1\n",
    "            coords.append((start,stop))        \n",
    "        #end for\n",
    "    ## print out fasta file\n",
    "    else:\n",
    "        print(data)\n",
    "    #end if\n",
    "    ## now use the coords to pull out seqs in the codon aware MSA ##\n",
    "    ## write a json for partition and indices associated ## \n",
    "    index_data = {}\n",
    "    for pos, c in enumerate(coords):\n",
    "        temp_dict = {}\n",
    "        ## want list of 3 ##\n",
    "        n = 3\n",
    "        recs = list(rec for rec in SeqIO.parse(codon_MSA_in, \"fasta\"))      \n",
    "        ## actual codons ##\n",
    "        #codon_map = [list(recs[0].seq)[i*n:(i+1) *n] for i in range((len(list(recs[0].seq)) + n - 1) // n )]\n",
    "        index_map = [list(range(len(recs[0].seq)))[i*n:(i+1) *n] for i in range((len(list(recs[0].seq)) + n - 1) // n )]\n",
    "        #print(index_map)\n",
    "        old_start = c[0]\n",
    "        old_stop = c[1]\n",
    "        new_start = ''\n",
    "        new_stop = ''\n",
    "        ## getting new start ##\n",
    "        for imap in index_map:\n",
    "            if old_start in imap:\n",
    "                for p, j in enumerate(imap):\n",
    "                    if old_start == j:\n",
    "                        if p !=0:\n",
    "                            new_start = imap[2]+1\n",
    "                        else:\n",
    "                            new_start = imap[0]\n",
    "                        #end if\n",
    "                    #end if\n",
    "                #end for\n",
    "            elif old_stop in imap:\n",
    "                new_stop = imap[0]\n",
    "            else:\n",
    "                continue \n",
    "            #end if\n",
    "        ## sanity check \n",
    "        print(f\"# Sanity check: OLD {old_start}, {old_stop} | NEW {new_start}, {new_stop} | NEW div by 3 {(int(new_stop)-int(new_start))/3}\")\n",
    "        #print(f\"OLD {old_start}, {old_stop} | NEW {new_start}, {new_stop}\")\n",
    "        temp_dict[pos+1] = [i+1 for i in list(range(int(new_start),int(new_stop)))]\n",
    "        #print(temp_dict)\n",
    "        index_data.update(temp_dict)\n",
    "        \n",
    "        ### ~ CHANGE TO PLACE YOU WANT OUTPUT ~ ###\n",
    "        codon_out = os.path.join(\"..\", \"results\", label, \"%s.%s.codon.fas\" % (combo, str(pos+1)))\n",
    "        \n",
    "        print(\"# Saving partition to:\", codon_out)\n",
    "        with open(codon_out, \"w\") as out_f:\n",
    "            ## just grabbing one record right now ## \n",
    "            #for record in recs[0:1]:\n",
    "            for record in recs:\n",
    "                ## now grabbing actual partition ##\n",
    "                partition = record[int(new_start):int(new_stop)]\n",
    "                ## double sanity check ##\n",
    "                #print(len(partition),len(partition)/3)\n",
    "                #print(partition.seq)\n",
    "                out_f.write(\">{}\\n{}\\n\".format(partition.id, partition.seq))\n",
    "            #end for\n",
    "        #end with\n",
    "        \n",
    "    #print(index_data)\n",
    "    ## write json here ## \n",
    "    #json_title = \"CATS_8-2021/CATS_8-20.codons/FCOV1_%s.PARTITION_info.json\" % (combo)\n",
    "    #with open(json_title, 'w') as json_file:\n",
    "    #      json.dump(index_data, json_file, indent=4)\n",
    "    #temp = {}\n",
    "    #temp[combo] = list(index_data.keys())\n",
    "    ##print(temp)\n",
    "    print(f\"\\nDone with {combo}\\n\")\n",
    "    #return temp"
   ]
  },
  {
   "cell_type": "code",
   "execution_count": 23,
   "metadata": {},
   "outputs": [
    {
     "name": "stdout",
     "output_type": "stream",
     "text": [
      "# Processing best-gard: ../results/mammalian_REV3L/mammalian_REV3L_codons.SA.fasta.best-gard\n",
      "# Input Alignment: ../results/mammalian_REV3L/mammalian_REV3L_codons.SA.fasta\n",
      "# Sanity check: OLD 0, 9059 | NEW 0, 9057 | NEW div by 3 3019.0\n",
      "# Saving partition to: ../results/mammalian_REV3L/mammalian_REV3L.1.codon.fas\n",
      "# Sanity check: OLD 9060, 10883 | NEW 9060, 10881 | NEW div by 3 607.0\n",
      "# Saving partition to: ../results/mammalian_REV3L/mammalian_REV3L.2.codon.fas\n",
      "\n",
      "Done with mammalian_REV3L\n",
      "\n"
     ]
    }
   ],
   "source": [
    "\n",
    "\n",
    "label =  snakemake.params.genelabel\n",
    "\n",
    "# mammalian_REV3L_codons.SA.fasta.best-gard\n",
    "best_gard = os.path.join(\"..\", \"results\", label, label + \"_codons.SA.fasta.best-gard\")\n",
    "input_msa = os.path.join(\"..\", \"results\", label, label + \"_codons.SA.fasta\")\n",
    "\n",
    "\n",
    "print(\"# Processing best-gard:\", best_gard)\n",
    "print(\"# Input Alignment:\", input_msa)\n",
    "\n",
    "gard_parser(label, best_gard, input_msa)\n"
   ]
  },
  {
   "cell_type": "markdown",
   "metadata": {},
   "source": [
    "## End of file"
   ]
  },
  {
   "cell_type": "code",
   "execution_count": null,
   "metadata": {},
   "outputs": [],
   "source": []
  }
 ],
 "metadata": {
  "kernelspec": {
   "display_name": "Python 3 (ipykernel)",
   "language": "python",
   "name": "python3"
  },
  "language_info": {
   "codemirror_mode": {
    "name": "ipython",
    "version": 3
   },
   "file_extension": ".py",
   "mimetype": "text/x-python",
   "name": "python",
   "nbconvert_exporter": "python",
   "pygments_lexer": "ipython3",
   "version": "3.7.7"
  }
 },
 "nbformat": 4,
 "nbformat_minor": 4
}
